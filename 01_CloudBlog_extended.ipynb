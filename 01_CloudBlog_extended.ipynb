{
 "cells": [
  {
   "cell_type": "markdown",
   "metadata": {},
   "source": [
    "# Statistical models and PPL"
   ]
  },
  {
   "cell_type": "markdown",
   "metadata": {},
   "source": [
    "\n",
    "## Bayesian Statistics in Climate and Weather\n",
    "\n",
    "In Bayesian statistics, probability is viewed as a degree of belief of an event occurring (in contrast to frequentist statistics where probability is the frequency of an event occurring). The Bayesian view of probability is valuable in climate and weather forecasting. It allows us to quantify how likely we expect events to be, such as the probability of rain on a certain day.\n",
    "\n",
    "In Bayesian statistics, we can incorporate a prior probability: our degree of belief of event occurring before observing any evidence. On an average day, we might expect rain to occur with some probability. We write the prior probability of rain as $P({\\sf event})$. Then we observe some evidence and update our degree of belief about the event occurring. Let's say we look out the window and observe some data: we see there are many dark clouds in the sky.  So we can update our degree of belief of rain occurring this afternoon. This is called conditioning on observations. \n",
    "\n",
    "We write this updated probability as $P({\\sf event}|{\\sf obs})$. This is a conditional probability, or a probability of one event (rain) assuming that another event has occurred (cloud). In particular, we call this the posterior probability of rain, because we have observed some data (clouds) and updated our prior probability. We can use Bayes' theorem to calculate it:\n",
    "\n",
    "$$P({\\sf event}|{\\sf obs}) \\propto P({\\sf obs}|{\\sf event}) \\times P({\\sf event}) $$\n",
    "\n",
    "There are two additional terms here. $P({\\sf obs})$. is the evidence or the overall probability of seeing the cloud, regardless of whether it rains or not. $P({\\sf obs}|{\\sf event})$. is the likelihood, the probability of observing the data if you know the outcome, i.e. the probability of seeing the cloud if it ends up raining later. \n",
    "\n",
    "We are usually concerned with learning the posterior probability $P({\\sf event}|{\\sf obs})$, which is why Bayes' theorem is useful. But it can also be used more generally when we want to learn anything given some data, e.g. we might want to learn parameters of a model. This is called Bayesian inference.\n",
    "\n",
    "This happens to be really useful and has many applications in climate and weather science. It becomes even more powerful when we think about probability distributions, which describe the probabilities associated with all the possible outcomes. One important use of Bayesian statistics is in data assimilation: incorporating observed data from satellites about the current state of the atmosphere into the weather model for prediction of the future state of the atmosphere."
   ]
  },
  {
   "cell_type": "markdown",
   "metadata": {},
   "source": [
    "## What is a probabilistic programming language (PPL)?\n",
    "\n",
    "The traditional approach to constructing statistical models can be time-consuming and requires expertise. Typically it involves statisticians writing down the problem on paper and carrying out a mathematical procedure to design a bespoke statistical model. This would then be translated into code to construct a model ready for use. Since the model is specifically designed for the task at hand, this method must be repeated for each new problem.\n",
    "\n",
    "Probabilistic programming languages are designed to make this process simpler, quicker and less technical. The idea is to remove the need for the expert statistician to hand-design the statistical model, by embedding this step within the programming language itself. Statistical tasks such as encoding observations (conditioning) and learning latent variables (inference) are automated and some of the complicated mathematical and statistical steps are hidden from the user. This makes statistical modelling more accessible to non-experts and tasks that traditionally require a lot of thought and hand-engineering can be automated."
   ]
  },
  {
   "cell_type": "markdown",
   "metadata": {},
   "source": [
    "## What does Probabalistic Programming involve? \n",
    "\n",
    "PPLs are just ordinary programming languages, equipped with tools that make statistical modelling easier for the user, reducing the need for hand-designing programs. The main components of a PPL are:\n",
    "\n",
    "1) Sampling: Our model is probabilistic- it requires drawing values at random from probability distributions.\n",
    "\n",
    "2) Conditioning: We have some observed data that can be used to update probabilities\n",
    "\n",
    "3) Inference: We can learn something from the known data and model. This could be a \"latent variable\", some underlying factor that you can't directly observe but might influence the data. This is usually the hard part.\n",
    "\n",
    "Probabilistic programming is a suitable choice when we have a probabalistic model, that relies on sampling from distributions in order to make predictions. PPL makes it easier to do conditioning on observed data and to learn something about the model. Note that probabilistic programming languages are not new. TThey have been around since Simula in 1966. However, with the rise of deep learning, they are growing in popularity, with many new PPLs designed with inference for machine learning in mind (e.g. Pyro, Edward, Infer.Net, webppl).\n",
    "\n",
    "Let's look at a simple example to show how probabilistic programming works. We'll be using Pyro, a probabilistic programming language built on top of pytorch in python. Most of this example comes from the Introduction to Inference in Pyro tutorial."
   ]
  },
  {
   "cell_type": "markdown",
   "metadata": {},
   "source": [
    "## A simple model for a moving cloud\n",
    "\n",
    "Let's say we have a cloud moving through the atmosphere with some speed in 1 dimension. We observe it after 10 seconds but with some measurement error. We want to use a probabilistic approach to find the distribution of the wind speed."
   ]
  },
  {
   "cell_type": "markdown",
   "metadata": {},
   "source": [
    "## 1) Statistical Model\n",
    "The wind speed is something we can't directly observe- its a hidden variable. But we have some prior knowledge for what kind of wind speed to expect. We use this to sample from a prior distribution for the particle speed with a guess wind speed and variance. Then, the particle is moved a distance of speed x time and its final position is observed with some measurement error."
   ]
  },
  {
   "cell_type": "code",
   "execution_count": 1,
   "metadata": {},
   "outputs": [],
   "source": [
    "import numpy as np \n",
    "import torch\n",
    "import pyro\n",
    "import pyro.distributions as dist\n",
    "np.random.seed(123)\n",
    "def propagate_cloud(guess, guess_sd, time):\n",
    "    \"\"\" Returns speed and observed position of cloud.\n",
    "    guess = our initial guess for the speed of particle\n",
    "    guess_sd = our guess for the standard deviation of the particle speed\n",
    "    time = length of time before observing \n",
    "    \"\"\"\n",
    "    # sample from prior distribution\n",
    "    speed = pyro.sample(\"speed\", dist.Normal(guess, guess_sd))  \n",
    "    position_final = speed * time\n",
    "    # final position is observed with a bit of noise from our measurement tools\n",
    "    position_observed = pyro.sample(\"position\", dist.Normal(position_final,\n",
    "                                                           torch.tensor([10.])))\n",
    "    return(speed, position_observed)\n"
   ]
  },
  {
   "cell_type": "code",
   "execution_count": 2,
   "metadata": {},
   "outputs": [],
   "source": [
    "guess = torch.tensor([5.])\n",
    "guess_sd = torch.tensor([2.])\n",
    "time = torch.tensor([10.])"
   ]
  },
  {
   "cell_type": "code",
   "execution_count": 3,
   "metadata": {},
   "outputs": [
    {
     "data": {
      "text/plain": [
       "(tensor([4.6267]), tensor([44.4646]))"
      ]
     },
     "execution_count": 3,
     "metadata": {},
     "output_type": "execute_result"
    }
   ],
   "source": [
    "propagate_cloud(guess, guess_sd, time)"
   ]
  },
  {
   "cell_type": "markdown",
   "metadata": {},
   "source": [
    "The  `pyro.sample` statements are the first component of PPL, allowing us to sample from distributions. We provide pyro with unique names for each variable, so they can be tracked. We can run this model many times to find the distribution of particle speeds and observed positions."
   ]
  },
  {
   "cell_type": "code",
   "execution_count": 4,
   "metadata": {
    "jupyter": {
     "source_hidden": true
    }
   },
   "outputs": [],
   "source": [
    "import matplotlib.pyplot as plt\n",
    "def plot_hist(hist1, hist2=None, title1=\"\", title2=\"\", true_dist=None):\n",
    "    fig = plt.figure(figsize=(10,4))\n",
    "    ax1 = plt.subplot2grid((1, 2), (0, 0));\n",
    "    ax1.hist(hist1, 25, density=True, label=\"Guide\", alpha=0.7);\n",
    "    ax1.axvline(np.mean(hist1), c=\"k\", ls=\"--\");\n",
    "    plt.title(title1);\n",
    "    if hist2 is not None:\n",
    "        ax2 = plt.subplot2grid((1, 2), (0, 1));\n",
    "        ax2.hist(hist2, 25, density=True, label=\"Guide\", alpha=0.7);\n",
    "        ax2.axvline(np.mean(hist2), c=\"k\", ls=\"--\");\n",
    "        plt.title(title2);\n",
    "    if true_dist is not None:\n",
    "        # Exact posterior distribution of speed: provide tuple for mu and sigma\n",
    "        exact_mu,exact_sigma =  true_dist\n",
    "        x = np.linspace(-5., 15., 100);\n",
    "        f = 1./(exact_sigma*np.sqrt(2*np.pi))*np.exp(-(x-exact_mu)**2/(2*exact_sigma**2))\n",
    "        for ax in fig.axes:\n",
    "            ax.plot(x, f, lw=2, label=\"Exact\", color=\"red\");\n",
    "            ax.axvline(exact_mu, ls=\"--\", color=\"red\");\n",
    "            ax.legend();"
   ]
  },
  {
   "cell_type": "code",
   "execution_count": 5,
   "metadata": {},
   "outputs": [
    {
     "data": {
      "image/png": "[encoded data removed]",
      "text/plain": [
       "<Figure size 720x288 with 2 Axes>"
      ]
     },
     "metadata": {
      "needs_background": "light"
     },
     "output_type": "display_data"
    }
   ],
   "source": [
    "uncond = [propagate_cloud(guess=torch.tensor([5.]),\n",
    "                          guess_sd=torch.tensor([2.]),\n",
    "                          time=torch.tensor([10.])) for i in range(1000)]\n",
    "speed_uncond, pos_uncond = zip(*uncond)\n",
    "plot_hist(speed_uncond, pos_uncond, \"Speed\", \"Position\")"
   ]
  },
  {
   "cell_type": "markdown",
   "metadata": {},
   "source": [
    "## 2) Conditioning\n",
    "\n",
    "What if we observe the particle at a certain point, x=30 m? We want to use this information in our model to learn more about the latent variable, speed. This is when we condition on our observations.\n",
    "In pyro, this is done with the pyro.condition statement. This statement returns a new function almost identical to the original, but overwrites the   `pyro.sample(\"position\",...)` by fixing it at the observed value."
   ]
  },
  {
   "cell_type": "code",
   "execution_count": 6,
   "metadata": {},
   "outputs": [],
   "source": [
    "position_observed = torch.tensor([30.])\n",
    "conditioned_propagate = pyro.condition(propagate_cloud,\n",
    "                                       data={\"position\": position_observed})"
   ]
  },
  {
   "cell_type": "code",
   "execution_count": 7,
   "metadata": {},
   "outputs": [
    {
     "data": {
      "text/plain": [
       "(tensor([4.5267]), tensor([30.]))"
      ]
     },
     "execution_count": 7,
     "metadata": {},
     "output_type": "execute_result"
    }
   ],
   "source": [
    "conditioned_propagate(guess, guess_sd, time)"
   ]
  },
  {
   "cell_type": "code",
   "execution_count": 8,
   "metadata": {},
   "outputs": [
    {
     "data": {
      "image/png": "[encoded data removed]",
      "text/plain": [
       "<Figure size 720x288 with 2 Axes>"
      ]
     },
     "metadata": {
      "needs_background": "light"
     },
     "output_type": "display_data"
    }
   ],
   "source": [
    "cond = [conditioned_propagate(guess=torch.tensor([5.]), \n",
    "                              guess_sd=torch.tensor([2.]), \n",
    "                              time=torch.tensor([10.])) for i in range(1000)]\n",
    "speed_cond, pos_cond = zip(*cond)\n",
    "plot_hist(speed_cond, pos_cond, \"Speed\", \"Position\")"
   ]
  },
  {
   "cell_type": "markdown",
   "metadata": {},
   "source": [
    "## 3) Inference\n",
    "The next step is inference- the difficult part. The aim is to find the posterior distribution of the speed, given our model and observation above.\n",
    "$$P({\\sf speed}|{\\sf position}=30) \\sim \\, ?$$\n",
    "Being able to calculate this exactly is rare, so we will estimate the distribution, we can use the stochastic variational inference algorithm. This requires a distribution called a guide (or variational distribution) that is an approximation the posterior distribution we want to know: $P({\\sf speed}|{\\sf position}=30)$. The guide relies on additional parameters that will be tuned to \"guide\" it towards the posterior distribution.\n",
    "\n",
    "For this example, we will sample the wind speed from a normal distribution with mean and variance given by the new parameters, a and b. These are first defined with the statement pyro.param(...) and are stored in the \"Pyro Parameter Store\". The values we provide here for a and b aren't too important, as we will optimise these in the next step."
   ]
  },
  {
   "cell_type": "markdown",
   "metadata": {},
   "source": [
    "For this example, we will sample the wind speed from a normal distribution with mean and variance given by the new parameters, a and b. These are first defined with the statement `pyro.param(...)` and are stored in the \"Pyro Parameter Store\". The values we provide here for a and b aren't too important, as we will optimise these in the next step."
   ]
  },
  {
   "cell_type": "code",
   "execution_count": 9,
   "metadata": {},
   "outputs": [],
   "source": [
    "from torch.distributions import constraints\n",
    "def guide(guess, guess_sd, time):\n",
    "    \"\"\" The guide (or variational distribution) approximates \n",
    "    the posterior distribution, using extra variational parameters,\n",
    "    a and b, to sample from the speed distribution. \"\"\"\n",
    "    a = pyro.param(\"a\", torch.tensor(guess))\n",
    "    b = pyro.param(\"b\", torch.tensor(guess_sd), constraint=constraints.positive)\n",
    "    speed = pyro.sample(\"speed\", dist.Normal(a, b))\n",
    "    return speed"
   ]
  },
  {
   "cell_type": "markdown",
   "metadata": {},
   "source": [
    "We can check the distribution of the guide before optimising a and b. In our simple example we can actually calculate the exact posterior distribution using rules of normal distributions, to find that posterior distribution of the cloud speed has a mean of 3.4 m/s with a standard deviation of 0.89 m/s, shown in red above. Our initial guess is far from the ground truth."
   ]
  },
  {
   "cell_type": "code",
   "execution_count": 10,
   "metadata": {},
   "outputs": [
    {
     "name": "stdout",
     "output_type": "stream",
     "text": [
      "Exact Mean = 3.40, Exact Standard Deviation = 0.89\n"
     ]
    }
   ],
   "source": [
    "speed_obs_mean = 30./10.\n",
    "speed_obs_sd = 10./10.\n",
    "guess = 5.\n",
    "guess_sd = 2.\n",
    "exact_mean = (speed_obs_sd**2 * guess + guess_sd**2 * speed_obs_mean)/(speed_obs_sd**2 + guess_sd**2) \n",
    "exact_sd = np.sqrt(guess_sd**2/((guess_sd**2 + speed_obs_sd**2)))\n",
    "\n",
    "print(\"Exact Mean = {:.2f}, Exact Standard Deviation = {:.2f}\".format(\n",
    "    exact_mean, exact_sd))"
   ]
  },
  {
   "cell_type": "code",
   "execution_count": 11,
   "metadata": {},
   "outputs": [
    {
     "name": "stderr",
     "output_type": "stream",
     "text": [
      "/anaconda3/envs/infolab/lib/python3.7/site-packages/ipykernel_launcher.py:6: UserWarning: To copy construct from a tensor, it is recommended to use sourceTensor.clone().detach() or sourceTensor.clone().detach().requires_grad_(True), rather than torch.tensor(sourceTensor).\n",
      "  \n",
      "/anaconda3/envs/infolab/lib/python3.7/site-packages/ipykernel_launcher.py:7: UserWarning: To copy construct from a tensor, it is recommended to use sourceTensor.clone().detach() or sourceTensor.clone().detach().requires_grad_(True), rather than torch.tensor(sourceTensor).\n",
      "  import sys\n"
     ]
    },
    {
     "data": {
      "image/png": "[encoded data removed]",
      "text/plain": [
       "<Figure size 720x288 with 1 Axes>"
      ]
     },
     "metadata": {
      "needs_background": "light"
     },
     "output_type": "display_data"
    }
   ],
   "source": [
    "# Distribution of guide before any optimisation\n",
    "speed_guide = [guide(guess=torch.tensor([5.]), \n",
    "               guess_sd=torch.tensor([2.]), \n",
    "               time=torch.tensor([10.])).item() for i in range(1000)]\n",
    "plot_hist(speed_guide,title1=\"Speed\",true_dist=(3.4,0.89))"
   ]
  },
  {
   "cell_type": "markdown",
   "metadata": {},
   "source": [
    "### Stochastic Variational Inference\n",
    "Next we want to optimise the guide function to get a the best approximation to the posterior distribution, according to some loss function- we'll use the Evidence Lower Bound Operator or \"ELBO\" (link to why). We use stochastic variational inference , `pyro.infer.SVI` :"
   ]
  },
  {
   "cell_type": "code",
   "execution_count": 12,
   "metadata": {},
   "outputs": [
    {
     "name": "stdout",
     "output_type": "stream",
     "text": [
      "CPU times: user 29.6 s, sys: 468 ms, total: 30.1 s\n",
      "Wall time: 30.3 s\n"
     ]
    }
   ],
   "source": [
    "%%time \n",
    "pyro.clear_param_store()\n",
    "import pyro.infer\n",
    "import pyro.optim \n",
    "adam_params = {\"lr\": 0.001, \"betas\": (0.90, 0.999)}\n",
    "optimizer = pyro.optim.Adam(adam_params)\n",
    "svi = pyro.infer.SVI(model=conditioned_propagate, \n",
    "                     guide=guide,\n",
    "                     optim=optimizer,\n",
    "                     loss=pyro.infer.Trace_ELBO())\n",
    "\n",
    "losses, a, b  = [], [], []\n",
    "num_steps = 20000\n",
    "for t in range(num_steps):\n",
    "    losses.append(svi.step(guess=5., guess_sd=2., time=10.))\n",
    "    a.append(pyro.param(\"a\").item())\n",
    "    b.append(pyro.param(\"b\").item())"
   ]
  },
  {
   "cell_type": "code",
   "execution_count": 14,
   "metadata": {},
   "outputs": [
    {
     "data": {
      "text/plain": [
       "(tensor(3.4276, requires_grad=True), tensor(0.9108, grad_fn=<AddBackward0>))"
      ]
     },
     "execution_count": 14,
     "metadata": {},
     "output_type": "execute_result"
    }
   ],
   "source": [
    "pyro.param(\"a\"), pyro.param(\"b\")"
   ]
  },
  {
   "cell_type": "code",
   "execution_count": 15,
   "metadata": {},
   "outputs": [
    {
     "data": {
      "image/png": "[encoded data removed]",
      "text/plain": [
       "<Figure size 720x432 with 3 Axes>"
      ]
     },
     "metadata": {
      "needs_background": "light"
     },
     "output_type": "display_data"
    }
   ],
   "source": [
    "fig = plt.figure(figsize=(10,6));\n",
    "ax1 = plt.subplot2grid((2, 2), (0, 0), colspan=2);\n",
    "ax1.plot(losses);\n",
    "ax1.set(xlabel=\"step\", ylabel=\"loss\", title=\"ELBO\");\n",
    "ax2 = plt.subplot2grid((2, 2), (1, 0));\n",
    "ax2.plot(a);\n",
    "ax2.set(xlabel=\"step\", ylabel=\"a\", title=\"Mean Parameter\");\n",
    "ax3 = plt.subplot2grid((2, 2), (1, 1));\n",
    "ax3.plot(b);\n",
    "ax3.set(xlabel=\"step\", ylabel=\"b\", title=\"Standard Deviation Parameter\");\n",
    "plt.tight_layout();"
   ]
  },
  {
   "cell_type": "markdown",
   "metadata": {},
   "source": [
    "Now this has converged, we can use the optimised values of `a` and `b` to sample from the guide. We can also compare this to the analytic speed, which can be calculated for this simple example:"
   ]
  },
  {
   "cell_type": "code",
   "execution_count": 16,
   "metadata": {},
   "outputs": [
    {
     "name": "stdout",
     "output_type": "stream",
     "text": [
      "Mean = 3.41, Standard Deviation = 0.89\n"
     ]
    }
   ],
   "source": [
    "print(\"Mean = {:.2f}, Standard Deviation = {:.2f}\".format(np.mean(a[10000:20000]),np.mean(b[10000:20000])))"
   ]
  },
  {
   "cell_type": "code",
   "execution_count": 17,
   "metadata": {},
   "outputs": [
    {
     "data": {
      "image/png": "[encoded data removed]",
      "text/plain": [
       "<Figure size 720x288 with 2 Axes>"
      ]
     },
     "metadata": {
      "needs_background": "light"
     },
     "output_type": "display_data"
    }
   ],
   "source": [
    "#Distribution of guide after optimisation\n",
    "new_speed_guide = [guide(guess=5., guess_sd=2., time=10.).item() for i in range(1000)]\n",
    "plot_hist(speed_guide, new_speed_guide, \"Before optimisation\", \"After optimisation\",\n",
    "          true_dist=(3.4,0.89))"
   ]
  },
  {
   "cell_type": "markdown",
   "metadata": {},
   "source": [
    "The result is that after optimisation, the distribution of the guide looks almost identical to the exact posterior. So we have a good approximation to the posterior distribution which we can easily draw samples from.\n",
    "\n",
    "This example used stochastic variational inference, which gives us a way to approximate a posterior distribution when we don't know the exact form of the distribution. In this case, we used normal distributions, so we could have used Markov Chain Monte Carlo to learn a posterior distribution exactly."
   ]
  },
  {
   "cell_type": "markdown",
   "metadata": {},
   "source": [
    "Alternatively, we can specify the number of samples and number of steps we want to run this optimisation over, and the number of samples for the Monte Carlo posterior approximation. Then we can obtain the marginal distribution for the latent variable in fewer lines of code, e.g."
   ]
  },
  {
   "cell_type": "code",
   "execution_count": null,
   "metadata": {},
   "outputs": [],
   "source": [
    "svi = pyro.infer.SVI(model=conditioned_propagate, \n",
    "                     guide=guide,\n",
    "                     optim=optimizer,\n",
    "                     loss=pyro.infer.Trace_ELBO(),\n",
    "                     num_samples=1000, \n",
    "                     num_steps=1000)\n",
    "svi.run(guess=5., guess_sd=2., time=10.)\n",
    "marginal = pyro.infer.EmpiricalMarginal(svi, sites=\"speed\")"
   ]
  },
  {
   "cell_type": "code",
   "execution_count": null,
   "metadata": {},
   "outputs": [],
   "source": [
    "# Draw samples from marginal\n",
    "marginal()"
   ]
  },
  {
   "cell_type": "code",
   "execution_count": null,
   "metadata": {},
   "outputs": [],
   "source": [
    "#Distribution of guide after optimisation\n",
    "new_speed_guide = [marginal().item() for i in range(1000)]\n",
    "plot_hist(speed_guide, new_speed_guide, \"Before optimisation\", \"After optimisation\",\n",
    "          true_dist=(3.4,0.89))"
   ]
  },
  {
   "cell_type": "markdown",
   "metadata": {},
   "source": [
    "## MCMC\n",
    "Here we will carry out MCMC to show that we can do inference exactly. "
   ]
  },
  {
   "cell_type": "markdown",
   "metadata": {},
   "source": [
    "We set up the mcmc object below, with a Hamilton Monte Carlo (HMC) kernel"
   ]
  },
  {
   "cell_type": "code",
   "execution_count": null,
   "metadata": {},
   "outputs": [],
   "source": [
    "%%time\n",
    "import pyro.infer.mcmc\n",
    "hmc_kernel = pyro.infer.mcmc.HMC(conditioned_propagate,\n",
    "                                   adapt_step_size=True)\n",
    "mcmc = pyro.infer.mcmc.MCMC(hmc_kernel,\n",
    "                            num_samples=1000,\n",
    "                            warmup_steps=500)\n",
    "mcmc_run = mcmc.run(guess=torch.tensor([5.]),\n",
    "                    guess_sd=torch.tensor([2.]), \n",
    "                    time=torch.tensor([10.]))"
   ]
  },
  {
   "cell_type": "markdown",
   "metadata": {},
   "source": [
    "Now `mcmc_run` is an object from which we can get the marginal distribution for any latent variables, `p(z)`"
   ]
  },
  {
   "cell_type": "code",
   "execution_count": null,
   "metadata": {},
   "outputs": [],
   "source": [
    "marginal = pyro.infer.EmpiricalMarginal(mcmc_run, sites=\"speed\")"
   ]
  },
  {
   "cell_type": "code",
   "execution_count": null,
   "metadata": {},
   "outputs": [],
   "source": [
    "mcmc_speed = [marginal().item() for i in range(10000)]\n",
    "plot_hist(new_speed_guide, mcmc_speed, \"SVI\", \"HMC MCMC\",\n",
    "          true_dist=(3.4,0.89))"
   ]
  },
  {
   "cell_type": "code",
   "execution_count": null,
   "metadata": {},
   "outputs": [],
   "source": []
  }
 ],
 "metadata": {
  "kernelspec": {
   "display_name": "Python [conda env:infolab] *",
   "language": "python",
   "name": "conda-env-infolab-py"
  },
  "language_info": {
   "codemirror_mode": {
    "name": "ipython",
    "version": 3
   },
   "file_extension": ".py",
   "mimetype": "text/x-python",
   "name": "python",
   "nbconvert_exporter": "python",
   "pygments_lexer": "ipython3",
   "version": "3.7.3"
  }
 },
 "nbformat": 4,
 "nbformat_minor": 4
}
